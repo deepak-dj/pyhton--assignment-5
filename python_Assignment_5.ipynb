{
  "nbformat": 4,
  "nbformat_minor": 0,
  "metadata": {
    "colab": {
      "provenance": [],
      "collapsed_sections": []
    },
    "kernelspec": {
      "name": "python3",
      "display_name": "Python 3"
    },
    "language_info": {
      "name": "python"
    }
  },
  "cells": [
    {
      "cell_type": "markdown",
      "source": [
        "# Python Assignment 5"
      ],
      "metadata": {
        "id": "6blcZhvMOY42"
      }
    },
    {
      "cell_type": "markdown",
      "source": [
        "1. What does an empty dictionary&#39;s code look like?\n",
        "2. What is the value of a dictionary value with the key &#39;foo&#39; and the value 42?\n",
        "3. What is the most significant distinction between a dictionary and a list?\n",
        "4. What happens if you try to access spam[&#39;foo&#39;] if spam is {&#39;bar&#39;: 100}?\n",
        "5. If a dictionary is stored in spam, what is the difference between the expressions &#39;cat&#39; in spam and\n",
        "&#39;cat&#39; in spam.keys()?\n",
        "6. If a dictionary is stored in spam, what is the difference between the expressions &#39;cat&#39; in spam and\n",
        "&#39;cat&#39; in spam.values()?\n",
        "7. What is a shortcut for the following code?\n",
        "if &#39;color&#39; not in spam:\n",
        "spam[&#39;color&#39;] = &#39;black&#39;\n",
        "\n",
        "8. How do you &quot;pretty print&quot; dictionary values using which module and function?\n",
        "\n",
        "---\n",
        "# Answers"
      ],
      "metadata": {
        "id": "ARuMfbf3OWTg"
      }
    },
    {
      "cell_type": "code",
      "source": [
        "# ques 1\n",
        "''' empty dict looks like {}'''\n",
        "d = {}\n",
        "type(d)"
      ],
      "metadata": {
        "colab": {
          "base_uri": "https://localhost:8080/"
        },
        "id": "9RQBZ77KcYHk",
        "outputId": "6fa70ead-cbd8-4822-e431-afe22829484b"
      },
      "execution_count": 1,
      "outputs": [
        {
          "output_type": "execute_result",
          "data": {
            "text/plain": [
              "dict"
            ]
          },
          "metadata": {},
          "execution_count": 1
        }
      ]
    },
    {
      "cell_type": "code",
      "source": [
        "# quest 2\n",
        "\n",
        "42"
      ],
      "metadata": {
        "colab": {
          "base_uri": "https://localhost:8080/"
        },
        "id": "FXXrtJYDcxZV",
        "outputId": "9cc196f8-d47f-472c-bea5-01fce8b57804"
      },
      "execution_count": 2,
      "outputs": [
        {
          "output_type": "execute_result",
          "data": {
            "text/plain": [
              "42"
            ]
          },
          "metadata": {},
          "execution_count": 2
        }
      ]
    },
    {
      "cell_type": "code",
      "source": [
        "# ques 3\n",
        "''' \n",
        "List is a collection of hetrogenious datatypes which are arranged in order while\n",
        "dictonary is a collection of pairs of key and value in which order is not required.\n",
        "\n",
        "example\n",
        "'''\n",
        "l = [1,2,3,4] # list\n",
        "d = {1:'a',2:'b'} #dictonary\n",
        "\n",
        "print(type(l))\n",
        "print(type(d))"
      ],
      "metadata": {
        "colab": {
          "base_uri": "https://localhost:8080/"
        },
        "id": "KuBmM4OkdU_1",
        "outputId": "78991481-aaba-492d-bb77-decccce1c008"
      },
      "execution_count": 3,
      "outputs": [
        {
          "output_type": "stream",
          "name": "stdout",
          "text": [
            "<class 'list'>\n",
            "<class 'dict'>\n"
          ]
        }
      ]
    },
    {
      "cell_type": "code",
      "source": [
        "# ques 4\n",
        "\n",
        "spam = {'bar': 100}\n",
        "# spam['foo'] # will return key error because pvm is not finding the key 'foo'\n",
        "'key error'"
      ],
      "metadata": {
        "colab": {
          "base_uri": "https://localhost:8080/",
          "height": 35
        },
        "id": "iVSFil0VfDrp",
        "outputId": "8025c56c-c47e-4439-d864-4086bad96e14"
      },
      "execution_count": 33,
      "outputs": [
        {
          "output_type": "execute_result",
          "data": {
            "text/plain": [
              "'key error'"
            ],
            "application/vnd.google.colaboratory.intrinsic+json": {
              "type": "string"
            }
          },
          "metadata": {},
          "execution_count": 33
        }
      ]
    },
    {
      "cell_type": "code",
      "source": [
        "# ques 5\n",
        "\n",
        "''' There is no difference. The in operator checks whether a value exists as a key in the dictionary. '''"
      ],
      "metadata": {
        "colab": {
          "base_uri": "https://localhost:8080/"
        },
        "id": "nRjpi08HhY36",
        "outputId": "1448d530-a189-4492-a936-ced5c06e791c"
      },
      "execution_count": 23,
      "outputs": [
        {
          "output_type": "execute_result",
          "data": {
            "text/plain": [
              "100"
            ]
          },
          "metadata": {},
          "execution_count": 23
        }
      ]
    },
    {
      "cell_type": "code",
      "source": [
        "# ques 6\n",
        "''' \n",
        "'cat' in spam checks whether there is a 'cat' key in the dictionary,\n",
        " while 'cat' in spam.values() checks whether there is a value 'cat' for one of the keys in spam.\n",
        "''' "
      ],
      "metadata": {
        "id": "cg-aSP4Rje1E"
      },
      "execution_count": 24,
      "outputs": []
    },
    {
      "cell_type": "code",
      "source": [
        "# ques 7\n",
        "'''\n",
        "In dictonary there is a method called setdefault().\n",
        "'''\n",
        "spam.setdefault('color','black')\n",
        "print(spam)"
      ],
      "metadata": {
        "colab": {
          "base_uri": "https://localhost:8080/"
        },
        "id": "HTVzKCcSjf-E",
        "outputId": "92a90ff5-c4e6-43a2-90b2-92ba673ac408"
      },
      "execution_count": 30,
      "outputs": [
        {
          "output_type": "stream",
          "name": "stdout",
          "text": [
            "{'bar': 100, 'color': 'black'}\n"
          ]
        }
      ]
    },
    {
      "cell_type": "code",
      "source": [
        "from IPython.utils.sysinfo import pprint\n",
        "# ques 8\n",
        "\n",
        "from pprint import pprint\n",
        "\n",
        "pprint(spam)"
      ],
      "metadata": {
        "colab": {
          "base_uri": "https://localhost:8080/"
        },
        "id": "VuDsjOQKjr3k",
        "outputId": "fb8d3dd8-9d66-4756-9e2d-6986c5a77bfd"
      },
      "execution_count": 29,
      "outputs": [
        {
          "output_type": "stream",
          "name": "stdout",
          "text": [
            "{'bar': 100, 'color': 'black'}\n"
          ]
        }
      ]
    },
    {
      "cell_type": "code",
      "source": [],
      "metadata": {
        "id": "DDhbT__YkCzj"
      },
      "execution_count": null,
      "outputs": []
    }
  ]
}